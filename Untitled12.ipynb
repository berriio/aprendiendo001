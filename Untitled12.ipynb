{
  "nbformat": 4,
  "nbformat_minor": 0,
  "metadata": {
    "colab": {
      "provenance": [],
      "authorship_tag": "ABX9TyNVvatjhVUCRP3tISqeLRKO",
      "include_colab_link": true
    },
    "kernelspec": {
      "name": "python3",
      "display_name": "Python 3"
    },
    "language_info": {
      "name": "python"
    }
  },
  "cells": [
    {
      "cell_type": "markdown",
      "metadata": {
        "id": "view-in-github",
        "colab_type": "text"
      },
      "source": [
        "<a href=\"https://colab.research.google.com/github/berriio/aprendiendo001/blob/main/Untitled12.ipynb\" target=\"_parent\"><img src=\"https://colab.research.google.com/assets/colab-badge.svg\" alt=\"Open In Colab\"/></a>"
      ]
    },
    {
      "cell_type": "code",
      "execution_count": 1,
      "metadata": {
        "colab": {
          "base_uri": "https://localhost:8080/"
        },
        "id": "tMgIiKbAHu2M",
        "outputId": "e4cee796-a5ba-45e0-eeb1-1ae6b719dca2"
      },
      "outputs": [
        {
          "output_type": "stream",
          "name": "stdout",
          "text": [
            "ingrese su nombremarlon\n",
            " hola marlon\n"
          ]
        }
      ],
      "source": [
        "## solicitar al usuario que ingrese su nombre y luego imprimir un mensaje de saludo con su nombre##\n",
        "\n",
        "nombre = input(\"ingrese su nombre\")\n",
        "print (\" hola \" + nombre)\n",
        "\n",
        "\n",
        "\n",
        "\n"
      ]
    },
    {
      "cell_type": "code",
      "source": [
        "\n",
        "## Pedir al usuario que ingrese la base y la altura de un triángulo, luego calcular y mostrar su área ##\n",
        "\n",
        "base = int(input(\"ingresar la base\"))\n",
        "altura = int(input(\"ingresar la altura\"))\n",
        "\n",
        "area = base * altura / 2\n",
        "\n",
        "print (f\"el area es igual a  {area}¨\")"
      ],
      "metadata": {
        "colab": {
          "base_uri": "https://localhost:8080/"
        },
        "id": "2EZTgAs_KYSa",
        "outputId": "d279a365-95cd-4041-e492-90d2ae75e19a"
      },
      "execution_count": 12,
      "outputs": [
        {
          "output_type": "stream",
          "name": "stdout",
          "text": [
            "ingresar la base5\n",
            "ingresar la altura3\n",
            "el area es igual a  7.5¨\n"
          ]
        }
      ]
    },
    {
      "cell_type": "code",
      "source": [],
      "metadata": {
        "id": "E5Np1WRHQyJT"
      },
      "execution_count": null,
      "outputs": []
    }
  ]
}