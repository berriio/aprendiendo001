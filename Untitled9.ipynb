{
  "nbformat": 4,
  "nbformat_minor": 0,
  "metadata": {
    "colab": {
      "provenance": [],
      "authorship_tag": "ABX9TyNw9vNnSO6+rtGSnEtrtlal",
      "include_colab_link": true
    },
    "kernelspec": {
      "name": "python3",
      "display_name": "Python 3"
    },
    "language_info": {
      "name": "python"
    }
  },
  "cells": [
    {
      "cell_type": "markdown",
      "metadata": {
        "id": "view-in-github",
        "colab_type": "text"
      },
      "source": [
        "<a href=\"https://colab.research.google.com/github/berriio/aprendiendo001/blob/main/Untitled9.ipynb\" target=\"_parent\"><img src=\"https://colab.research.google.com/assets/colab-badge.svg\" alt=\"Open In Colab\"/></a>"
      ]
    },
    {
      "cell_type": "code",
      "execution_count": null,
      "metadata": {
        "id": "fQ5JVyvLcLGu"
      },
      "outputs": [],
      "source": [
        "while 2== 2:\n",
        "  print(\"los numero son iguales\")"
      ]
    },
    {
      "cell_type": "code",
      "source": [
        "i = 1\n",
        "n = 100\n",
        "while i <= 100:\n",
        "  print(int(i))\n",
        "  i = i + 1\n",
        "suma = n * (n + 1) / 2\n",
        "print(f\"suma\",suma)\n"
      ],
      "metadata": {
        "colab": {
          "base_uri": "https://localhost:8080/"
        },
        "id": "lWEhp_XTjoko",
        "outputId": "1846c5c2-cf0e-4431-f311-aa13ad64385e"
      },
      "execution_count": null,
      "outputs": [
        {
          "output_type": "stream",
          "name": "stdout",
          "text": [
            "1\n",
            "2\n",
            "3\n",
            "4\n",
            "5\n",
            "6\n",
            "7\n",
            "8\n",
            "9\n",
            "10\n",
            "11\n",
            "12\n",
            "13\n",
            "14\n",
            "15\n",
            "16\n",
            "17\n",
            "18\n",
            "19\n",
            "20\n",
            "21\n",
            "22\n",
            "23\n",
            "24\n",
            "25\n",
            "26\n",
            "27\n",
            "28\n",
            "29\n",
            "30\n",
            "31\n",
            "32\n",
            "33\n",
            "34\n",
            "35\n",
            "36\n",
            "37\n",
            "38\n",
            "39\n",
            "40\n",
            "41\n",
            "42\n",
            "43\n",
            "44\n",
            "45\n",
            "46\n",
            "47\n",
            "48\n",
            "49\n",
            "50\n",
            "51\n",
            "52\n",
            "53\n",
            "54\n",
            "55\n",
            "56\n",
            "57\n",
            "58\n",
            "59\n",
            "60\n",
            "61\n",
            "62\n",
            "63\n",
            "64\n",
            "65\n",
            "66\n",
            "67\n",
            "68\n",
            "69\n",
            "70\n",
            "71\n",
            "72\n",
            "73\n",
            "74\n",
            "75\n",
            "76\n",
            "77\n",
            "78\n",
            "79\n",
            "80\n",
            "81\n",
            "82\n",
            "83\n",
            "84\n",
            "85\n",
            "86\n",
            "87\n",
            "88\n",
            "89\n",
            "90\n",
            "91\n",
            "92\n",
            "93\n",
            "94\n",
            "95\n",
            "96\n",
            "97\n",
            "98\n",
            "99\n",
            "100\n",
            "suma 5050.0\n"
          ]
        }
      ]
    },
    {
      "cell_type": "code",
      "source": [
        "min = int(input(\"ingrese el limite inferior del intervalo\"))\n",
        "max = int(input(\"ingrese el limite superior del intervalo\"))\n",
        "\n",
        "while min <= max:\n",
        "  if min % 2 == 0:\n",
        "    print(min)\n",
        "  min = min + 1"
      ],
      "metadata": {
        "colab": {
          "base_uri": "https://localhost:8080/"
        },
        "id": "OfsJvQ31ndBB",
        "outputId": "29135909-eaa3-4f94-835a-e79b94c40f21"
      },
      "execution_count": null,
      "outputs": [
        {
          "output_type": "stream",
          "name": "stdout",
          "text": [
            "ingrese el limite inferior del intervalo1\n",
            "ingrese el limite superior del intervalo10\n",
            "2\n",
            "4\n",
            "6\n",
            "8\n",
            "10\n"
          ]
        }
      ]
    },
    {
      "cell_type": "code",
      "source": [
        "n1 = int (input(\"igrese el numero\"))\n",
        "\n",
        "pares = 0\n",
        "impares = 0\n",
        "\n",
        "actual=1\n",
        "\n",
        "while actual <= n1:\n",
        "  if actual % 2 == 0:\n",
        "    pares += 1\n",
        "  else:\n",
        "    impares+=1\n",
        "    actual+=1\n",
        "print(\"numero par\" , pares)\n",
        "print(\"numero impare\",impares)"
      ],
      "metadata": {
        "id": "jkvWXVb5ppRF"
      },
      "execution_count": null,
      "outputs": []
    },
    {
      "cell_type": "code",
      "source": [],
      "metadata": {
        "id": "bwSpfgHUwvmA"
      },
      "execution_count": null,
      "outputs": []
    }
  ]
}